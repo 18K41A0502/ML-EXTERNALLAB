{
 "cells": [
  {
   "cell_type": "code",
   "execution_count": 13,
   "metadata": {},
   "outputs": [],
   "source": [
    "import pandas as pd\n",
    "import numpy as np\n",
    "from sklearn.metrics import classification_report\n",
    "from sklearn.metrics import confusion_matrix\n",
    "from sklearn.model_selection import train_test_split\n",
    "from sklearn.tree import DecisionTreeClassifier,export_text"
   ]
  },
  {
   "cell_type": "code",
   "execution_count": 14,
   "metadata": {},
   "outputs": [],
   "source": [
    "raw_data = pd.read_csv('kyphosis.csv')"
   ]
  },
  {
   "cell_type": "code",
   "execution_count": 15,
   "metadata": {},
   "outputs": [],
   "source": [
    "x = raw_data.drop('Kyphosis', axis = 1)\n",
    "y = raw_data['Kyphosis']\n",
    "x_training_data, x_test_data, y_training_data, y_test_data = train_test_split(x, y, test_size = 0.3)"
   ]
  },
  {
   "cell_type": "code",
   "execution_count": 16,
   "metadata": {},
   "outputs": [
    {
     "name": "stdout",
     "output_type": "stream",
     "text": [
      "|--- feature_2 <= 8.50\n",
      "|   |--- feature_0 <= 93.00\n",
      "|   |   |--- feature_1 <= 4.50\n",
      "|   |   |   |--- class: absent\n",
      "|   |   |--- feature_1 >  4.50\n",
      "|   |   |   |--- class: present\n",
      "|   |--- feature_0 >  93.00\n",
      "|   |   |--- class: present\n",
      "|--- feature_2 >  8.50\n",
      "|   |--- feature_2 <= 12.50\n",
      "|   |   |--- feature_0 <= 79.50\n",
      "|   |   |   |--- class: absent\n",
      "|   |   |--- feature_0 >  79.50\n",
      "|   |   |   |--- class: absent\n",
      "|   |--- feature_2 >  12.50\n",
      "|   |   |--- feature_0 <= 154.00\n",
      "|   |   |   |--- class: absent\n",
      "|   |   |--- feature_0 >  154.00\n",
      "|   |   |   |--- class: absent\n",
      "\n",
      "              precision    recall  f1-score   support\n",
      "\n",
      "      absent       0.90      0.86      0.88        21\n",
      "     present       0.40      0.50      0.44         4\n",
      "\n",
      "    accuracy                           0.80        25\n",
      "   macro avg       0.65      0.68      0.66        25\n",
      "weighted avg       0.82      0.80      0.81        25\n",
      "\n",
      "[[18  3]\n",
      " [ 2  2]]\n"
     ]
    }
   ],
   "source": [
    "model = DecisionTreeClassifier(random_state=0, max_depth=3)\n",
    "s=model.fit(x_training_data, y_training_data)\n",
    "s1=export_text(s)\n",
    "print(s1)\n",
    "predictions = model.predict(x_test_data)\n",
    "print(classification_report(y_test_data, predictions))\n",
    "print(confusion_matrix(y_test_data, predictions))\n"
   ]
  }
 ],
 "metadata": {
  "kernelspec": {
   "display_name": "Python 3",
   "language": "python",
   "name": "python3"
  },
  "language_info": {
   "codemirror_mode": {
    "name": "ipython",
    "version": 3
   },
   "file_extension": ".py",
   "mimetype": "text/x-python",
   "name": "python",
   "nbconvert_exporter": "python",
   "pygments_lexer": "ipython3",
   "version": "3.8.8"
  }
 },
 "nbformat": 4,
 "nbformat_minor": 4
}
