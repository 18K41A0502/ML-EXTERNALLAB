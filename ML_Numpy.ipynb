{
 "cells": [
  {
   "cell_type": "markdown",
   "metadata": {},
   "source": [
    "Imporatnt python labraries for Machine Learning\n",
    "\n",
    "•Install numpy, matplotlib, pandas, sklearn and their dependencies\n",
    "\n",
    "pip install numpy\n",
    "pip install scipy\n",
    "pip install scikit-learn\n",
    "pip install matplotlib\n",
    "pip install pandas\n"
   ]
  },
  {
   "cell_type": "code",
   "execution_count": 2,
   "metadata": {},
   "outputs": [],
   "source": [
    "from __future__ import division\n",
    "import numpy as np\n",
    "import matplotlib.pyplot as plt \n",
    "import pandas as pd "
   ]
  },
  {
   "cell_type": "code",
   "execution_count": 3,
   "metadata": {},
   "outputs": [
    {
     "name": "stdout",
     "output_type": "stream",
     "text": [
      "Python: 3.8.8 (default, Apr 13 2021, 15:08:03) [MSC v.1916 64 bit (AMD64)]\n",
      "scipy: 1.6.2\n",
      "numpy: 1.20.1\n",
      "matplotlib: 3.3.4\n",
      "pandas: 1.2.4\n",
      "sklearn: 0.24.1\n"
     ]
    }
   ],
   "source": [
    "import sys\n",
    "print('Python: {}'.format(sys.version))\n",
    "# scipy\n",
    "import scipy\n",
    "print('scipy: {}'.format(scipy.__version__))\n",
    "# numpy\n",
    "import numpy\n",
    "print('numpy: {}'.format(numpy.__version__))\n",
    "# matplotlib\n",
    "import matplotlib\n",
    "print('matplotlib: {}'.format(matplotlib.__version__))\n",
    "# pandas\n",
    "import pandas\n",
    "print('pandas: {}'.format(pandas.__version__))\n",
    "# scikit-learn\n",
    "import sklearn\n",
    "print('sklearn: {}'.format(sklearn.__version__))"
   ]
  },
  {
   "cell_type": "markdown",
   "metadata": {},
   "source": [
    "NumPy - Numerical Python\n",
    "\n",
    "Advantages of Numpy Arrays:\n",
    "\n",
    "Allows several Mathematical Operations\n",
    "Faster operations"
   ]
  },
  {
   "cell_type": "code",
   "execution_count": 3,
   "metadata": {},
   "outputs": [
    {
     "name": "stdout",
     "output_type": "stream",
     "text": [
      "Time taken by list is: 1.328125\n",
      "Time taken by numpy is: 0.015625\n"
     ]
    }
   ],
   "source": [
    "# List vs Numpy - Time Taken\n",
    "import numpy as np\n",
    "from time import process_time\n",
    "\n",
    "#Time taken by a list\n",
    "python_list = [i for i in range(10000000)]\n",
    "\n",
    "start_time = process_time()\n",
    "\n",
    "python_list = [i+5 for i in python_list] # Add 5 with every element\n",
    "\n",
    "end_time = process_time()\n",
    "t_list=end_time - start_time\n",
    "\n",
    "print(\"Time taken by list is:\", t_list)\n",
    "\n",
    "#Time taken by a Numpy\n",
    "np_array = np.array([i for i in range(10000000)])\n",
    "\n",
    "start_time = process_time()\n",
    "\n",
    "np_array += 5  \n",
    "\n",
    "end_time = process_time()\n",
    "\n",
    "t_np=end_time - start_time\n",
    "\n",
    "print(\"Time taken by numpy is:\", t_np)\n"
   ]
  },
  {
   "cell_type": "markdown",
   "metadata": {},
   "source": [
    "Numpy Arrays"
   ]
  },
  {
   "cell_type": "code",
   "execution_count": 4,
   "metadata": {},
   "outputs": [
    {
     "name": "stdout",
     "output_type": "stream",
     "text": [
      "[1, 2, 3, 4, 5]\n"
     ]
    },
    {
     "data": {
      "text/plain": [
       "list"
      ]
     },
     "execution_count": 4,
     "metadata": {},
     "output_type": "execute_result"
    }
   ],
   "source": [
    "# list\n",
    "list1 = [1,2,3,4,5]\n",
    "print(list1)\n",
    "type(list1)"
   ]
  },
  {
   "cell_type": "code",
   "execution_count": 5,
   "metadata": {},
   "outputs": [
    {
     "name": "stdout",
     "output_type": "stream",
     "text": [
      "[1 2 3 4 5]\n"
     ]
    },
    {
     "data": {
      "text/plain": [
       "numpy.ndarray"
      ]
     },
     "execution_count": 5,
     "metadata": {},
     "output_type": "execute_result"
    }
   ],
   "source": [
    "np_array = np.array([1,2,3,4,5])\n",
    "print(np_array)\n",
    "type(np_array)"
   ]
  },
  {
   "cell_type": "code",
   "execution_count": 6,
   "metadata": {},
   "outputs": [
    {
     "name": "stdout",
     "output_type": "stream",
     "text": [
      "[1 2 3 4]\n"
     ]
    },
    {
     "data": {
      "text/plain": [
       "(4,)"
      ]
     },
     "execution_count": 6,
     "metadata": {},
     "output_type": "execute_result"
    }
   ],
   "source": [
    "# creating a 1 dim array\n",
    "a = np.array([1,2,3,4])\n",
    "print(a)\n",
    "a.shape"
   ]
  },
  {
   "cell_type": "code",
   "execution_count": 7,
   "metadata": {},
   "outputs": [
    {
     "name": "stdout",
     "output_type": "stream",
     "text": [
      "[[1 2 3 4]\n",
      " [5 6 7 8]]\n"
     ]
    },
    {
     "data": {
      "text/plain": [
       "(2, 4)"
      ]
     },
     "execution_count": 7,
     "metadata": {},
     "output_type": "execute_result"
    }
   ],
   "source": [
    "# creating a 2 dim array\n",
    "b = np.array([(1,2,3,4),(5,6,7,8)])\n",
    "print(b)\n",
    "b.shape"
   ]
  },
  {
   "cell_type": "code",
   "execution_count": 8,
   "metadata": {},
   "outputs": [
    {
     "name": "stdout",
     "output_type": "stream",
     "text": [
      "[[1. 2. 3. 4.]\n",
      " [5. 6. 7. 8.]]\n"
     ]
    }
   ],
   "source": [
    "#Define floating value array\n",
    "c = np.array([(1,2,3,4),(5,6,7,8)],dtype=float)\n",
    "print(c)"
   ]
  },
  {
   "cell_type": "markdown",
   "metadata": {},
   "source": [
    "Initial Placeholders in numpy arrays"
   ]
  },
  {
   "cell_type": "code",
   "execution_count": 11,
   "metadata": {},
   "outputs": [
    {
     "name": "stdout",
     "output_type": "stream",
     "text": [
      "x array is\n",
      "[[0. 0. 0. 0. 0.]\n",
      " [0. 0. 0. 0. 0.]\n",
      " [0. 0. 0. 0. 0.]\n",
      " [0. 0. 0. 0. 0.]]\n",
      "y array is\n",
      "[[1. 1. 1.]\n",
      " [1. 1. 1.]\n",
      " [1. 1. 1.]]\n",
      "z array is\n",
      "[[1 1 1 1]\n",
      " [1 1 1 1]\n",
      " [1 1 1 1]\n",
      " [1 1 1 1]\n",
      " [1 1 1 1]]\n"
     ]
    }
   ],
   "source": [
    "# create a numpy array of Zeros\n",
    "x = np.zeros((4,5))\n",
    "print('x array is')\n",
    "print(x)\n",
    "\n",
    "# create a numpy array of ones\n",
    "y = np.ones((3,3))\n",
    "print('y array is')\n",
    "print(y)\n",
    "\n",
    "# array of a particular value\n",
    "z = np.full((5,4),1)\n",
    "print('z array is')\n",
    "print(z)"
   ]
  },
  {
   "cell_type": "code",
   "execution_count": 12,
   "metadata": {},
   "outputs": [
    {
     "name": "stdout",
     "output_type": "stream",
     "text": [
      "[[1. 0. 0. 0. 0.]\n",
      " [0. 1. 0. 0. 0.]\n",
      " [0. 0. 1. 0. 0.]\n",
      " [0. 0. 0. 1. 0.]\n",
      " [0. 0. 0. 0. 1.]]\n"
     ]
    }
   ],
   "source": [
    "# create an identity matrix\n",
    "a = np.eye(5)\n",
    "print(a)"
   ]
  },
  {
   "cell_type": "code",
   "execution_count": 16,
   "metadata": {},
   "outputs": [
    {
     "name": "stdout",
     "output_type": "stream",
     "text": [
      "[[0.71808971 0.32763274 0.37048596 0.51486488]\n",
      " [0.14456274 0.29610847 0.16345488 0.92271556]\n",
      " [0.79442146 0.87780106 0.82569774 0.81238669]]\n"
     ]
    }
   ],
   "source": [
    "# create a numpy array with random values\n",
    "b = np.random.random((3,4))\n",
    "print(b)"
   ]
  },
  {
   "cell_type": "code",
   "execution_count": 17,
   "metadata": {},
   "outputs": [
    {
     "name": "stdout",
     "output_type": "stream",
     "text": [
      "[[400 800 975 754 924]\n",
      " [299 419 251 252  86]\n",
      " [162 537 600 146 703]\n",
      " [695  63 962 747 650]]\n"
     ]
    }
   ],
   "source": [
    "# random integer values array within a specific range\n",
    "c = np.random.randint(20,1000,(4,5))\n",
    "print(c)"
   ]
  },
  {
   "cell_type": "code",
   "execution_count": 18,
   "metadata": {},
   "outputs": [
    {
     "name": "stdout",
     "output_type": "stream",
     "text": [
      "[10. 15. 20. 25. 30.]\n"
     ]
    }
   ],
   "source": [
    "# array of evenly spaced values --> specifying the number of values required\n",
    "d = np.linspace(10,30,5)\n",
    "print(d)"
   ]
  },
  {
   "cell_type": "code",
   "execution_count": 19,
   "metadata": {},
   "outputs": [
    {
     "name": "stdout",
     "output_type": "stream",
     "text": [
      "[10 15 20 25]\n"
     ]
    }
   ],
   "source": [
    "# array of evenly spaced values --> specifying the step\n",
    "e = np.arange(10,30,5)\n",
    "print(e)"
   ]
  },
  {
   "cell_type": "code",
   "execution_count": 20,
   "metadata": {},
   "outputs": [
    {
     "name": "stdout",
     "output_type": "stream",
     "text": [
      "[10 20 20 20 50]\n"
     ]
    },
    {
     "data": {
      "text/plain": [
       "numpy.ndarray"
      ]
     },
     "execution_count": 20,
     "metadata": {},
     "output_type": "execute_result"
    }
   ],
   "source": [
    "# convert a list to a numpy array\n",
    "list2 = [10,20,20,20,50]\n",
    "\n",
    "np_array = np.asarray(list2)\n",
    "print(np_array)\n",
    "type(np_array)"
   ]
  },
  {
   "cell_type": "code",
   "execution_count": 22,
   "metadata": {},
   "outputs": [
    {
     "name": "stdout",
     "output_type": "stream",
     "text": [
      "[[43 70 63 60 30]\n",
      " [42 42 70 41 37]\n",
      " [65 73 24 61 38]\n",
      " [80 73 78 61 80]]\n",
      "Dimension of array c: (4, 5)\n",
      "number of dimensions of array c: 2\n",
      "number of elements of array c: 20\n",
      "int32\n"
     ]
    }
   ],
   "source": [
    "# Play with numpy array\n",
    "c = np.random.randint(20,90,(4,5))\n",
    "print(c)\n",
    "#array dimension\n",
    "print(\"Dimension of array c:\",c.shape)\n",
    "# number of dimensions\n",
    "print(\"number of dimensions of array c:\",c.ndim)\n",
    "# number of elements in an array\n",
    "print(\"number of elements of array c:\",c.size)\n",
    "# checking the data type of the values in the array\n",
    "print(c.dtype)"
   ]
  },
  {
   "cell_type": "markdown",
   "metadata": {},
   "source": [
    "Mathematical operations on a np array"
   ]
  },
  {
   "cell_type": "code",
   "execution_count": 23,
   "metadata": {},
   "outputs": [
    {
     "name": "stdout",
     "output_type": "stream",
     "text": [
      "[1, 2, 3, 4, 5, 6, 7, 8, 9, 10]\n"
     ]
    }
   ],
   "source": [
    "list1 = [1,2,3,4,5]\n",
    "list2 = [6,7,8,9,10]\n",
    "\n",
    "print(list1 + list2)    # concatenate or joins two list"
   ]
  },
  {
   "cell_type": "code",
   "execution_count": 24,
   "metadata": {},
   "outputs": [
    {
     "name": "stdout",
     "output_type": "stream",
     "text": [
      "a= [[6 3 8]\n",
      " [7 1 6]\n",
      " [6 6 4]]\n",
      "b= [[14 18 13]\n",
      " [18 11 18]\n",
      " [19 19 12]]\n",
      "Addition\n",
      "[[20 21 21]\n",
      " [25 12 24]\n",
      " [25 25 16]]\n",
      "Subtraction\n",
      "[[ -8 -15  -5]\n",
      " [-11 -10 -12]\n",
      " [-13 -13  -8]]\n",
      "Multiplication\n",
      "[[ 84  54 104]\n",
      " [126  11 108]\n",
      " [114 114  48]]\n",
      "Division\n",
      "[[0.42857143 0.16666667 0.61538462]\n",
      " [0.38888889 0.09090909 0.33333333]\n",
      " [0.31578947 0.31578947 0.33333333]]\n"
     ]
    }
   ],
   "source": [
    "a = np.random.randint(0,10,(3,3))\n",
    "b = np.random.randint(10,20,(3,3))\n",
    "print('a=',a)\n",
    "print('b=',b)\n",
    "print('Addition')\n",
    "print(a+b)\n",
    "print('Subtraction')\n",
    "print(a-b)\n",
    "print('Multiplication')\n",
    "print(a*b)\n",
    "print('Division')\n",
    "print(a/b)"
   ]
  },
  {
   "cell_type": "code",
   "execution_count": 25,
   "metadata": {},
   "outputs": [
    {
     "name": "stdout",
     "output_type": "stream",
     "text": [
      "a= [[6 3 8]\n",
      " [7 1 6]\n",
      " [6 6 4]]\n",
      "b= [[14 18 13]\n",
      " [18 11 18]\n",
      " [19 19 12]]\n",
      "Addition\n",
      "[[20 21 21]\n",
      " [25 12 24]\n",
      " [25 25 16]]\n",
      "Subtraction\n",
      "[[ -8 -15  -5]\n",
      " [-11 -10 -12]\n",
      " [-13 -13  -8]]\n",
      "Multiplication\n",
      "[[ 84  54 104]\n",
      " [126  11 108]\n",
      " [114 114  48]]\n",
      "Division\n",
      "[[0.42857143 0.16666667 0.61538462]\n",
      " [0.38888889 0.09090909 0.33333333]\n",
      " [0.31578947 0.31578947 0.33333333]]\n"
     ]
    }
   ],
   "source": [
    "#a = np.random.randint(0,10,(3,3))\n",
    "#b = np.random.randint(10,20,(3,3))\n",
    "print('a=',a)\n",
    "print('b=',b)\n",
    "print('Addition')\n",
    "print(np.add(a,b))\n",
    "print('Subtraction')\n",
    "print(np.subtract(a,b))\n",
    "print('Multiplication')\n",
    "print(np.multiply(a,b))\n",
    "print('Division')\n",
    "print(np.divide(a,b))"
   ]
  },
  {
   "cell_type": "markdown",
   "metadata": {},
   "source": [
    "Array Manipulation"
   ]
  },
  {
   "cell_type": "code",
   "execution_count": 26,
   "metadata": {},
   "outputs": [
    {
     "name": "stdout",
     "output_type": "stream",
     "text": [
      "[[ 6 14 18  5  6]\n",
      " [19  0 12  9 15]\n",
      " [ 0  6 11 19  9]]\n",
      "(3, 5)\n"
     ]
    }
   ],
   "source": [
    "array = np.random.randint(0,20,(3,5))\n",
    "print(array)\n",
    "print(array.shape)"
   ]
  },
  {
   "cell_type": "code",
   "execution_count": 27,
   "metadata": {},
   "outputs": [
    {
     "name": "stdout",
     "output_type": "stream",
     "text": [
      "[[ 6 19  0]\n",
      " [14  0  6]\n",
      " [18 12 11]\n",
      " [ 5  9 19]\n",
      " [ 6 15  9]]\n",
      "(5, 3)\n"
     ]
    }
   ],
   "source": [
    "# transpose using np.transpose\n",
    "trans = np.transpose(array)\n",
    "print(trans)\n",
    "print(trans.shape)"
   ]
  },
  {
   "cell_type": "code",
   "execution_count": 28,
   "metadata": {},
   "outputs": [
    {
     "name": "stdout",
     "output_type": "stream",
     "text": [
      "[[ 6 19  0]\n",
      " [14  0  6]\n",
      " [18 12 11]\n",
      " [ 5  9 19]\n",
      " [ 6 15  9]]\n",
      "(5, 3)\n"
     ]
    }
   ],
   "source": [
    "# transpose using .T\n",
    "trans2 = array.T\n",
    "print(trans2)\n",
    "print(trans2.shape)"
   ]
  },
  {
   "cell_type": "code",
   "execution_count": 29,
   "metadata": {},
   "outputs": [
    {
     "name": "stdout",
     "output_type": "stream",
     "text": [
      "[[9 8 7]\n",
      " [7 7 4]\n",
      " [4 8 3]\n",
      " [6 4 8]]\n",
      "(4, 3)\n"
     ]
    }
   ],
   "source": [
    "# reshaping a array\n",
    "a = np.random.randint(0,10,(4,3))\n",
    "print(a)\n",
    "print(a.shape)"
   ]
  },
  {
   "cell_type": "code",
   "execution_count": 30,
   "metadata": {},
   "outputs": [
    {
     "name": "stdout",
     "output_type": "stream",
     "text": [
      "[[9 8 7 7]\n",
      " [7 4 4 8]\n",
      " [3 6 4 8]]\n",
      "(3, 4)\n"
     ]
    }
   ],
   "source": [
    "b = a.reshape(3,4)\n",
    "print(b)\n",
    "print(b.shape)"
   ]
  },
  {
   "cell_type": "code",
   "execution_count": 34,
   "metadata": {},
   "outputs": [
    {
     "name": "stdout",
     "output_type": "stream",
     "text": [
      "[[9 8]\n",
      " [7 7]\n",
      " [7 4]\n",
      " [4 8]\n",
      " [3 6]\n",
      " [4 8]]\n",
      "(6, 2)\n"
     ]
    }
   ],
   "source": [
    "b = a.reshape(6,2)\n",
    "print(b)\n",
    "print(b.shape)"
   ]
  },
  {
   "cell_type": "code",
   "execution_count": null,
   "metadata": {},
   "outputs": [],
   "source": []
  }
 ],
 "metadata": {
  "kernelspec": {
   "display_name": "Python 3",
   "language": "python",
   "name": "python3"
  },
  "language_info": {
   "codemirror_mode": {
    "name": "ipython",
    "version": 3
   },
   "file_extension": ".py",
   "mimetype": "text/x-python",
   "name": "python",
   "nbconvert_exporter": "python",
   "pygments_lexer": "ipython3",
   "version": "3.8.8"
  }
 },
 "nbformat": 4,
 "nbformat_minor": 2
}
